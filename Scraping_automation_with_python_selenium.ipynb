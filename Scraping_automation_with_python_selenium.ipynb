{
 "cells": [
  {
   "cell_type": "markdown",
   "id": "b4f36401",
   "metadata": {},
   "source": [
    "# News extraction"
   ]
  },
  {
   "cell_type": "code",
   "execution_count": 19,
   "id": "bb78cc9a",
   "metadata": {},
   "outputs": [],
   "source": [
    "from selenium import webdriver\n",
    "from selenium.webdriver.chrome.service import Service\n",
    "import pandas as pd"
   ]
  },
  {
   "cell_type": "code",
   "execution_count": null,
   "id": "1d497f14",
   "metadata": {},
   "outputs": [],
   "source": [
    "web = 'https://www.thesun.co.uk/sport/football/'\n",
    "\n",
    "# Before, Put Chromedriver.exe in the same directory as python script python (he Scraping_automation_with_python.ipynb)\n",
    "\n",
    "path = '/Users/zahira/Desktop/WEB SCRPAING USING PYTHON/Scraping_automation_with_python/chromedriver'  # introduce path here\n",
    "\n",
    "\n",
    "# Creating the driver\n",
    "driver_service = Service(executable_path=path)\n",
    "driver = webdriver.Chrome(service=driver_service)\n",
    "driver.get(web)\n",
    "\n",
    "# Finding Elements\n",
    "containers = driver.find_elements(by='xpath', value='//div[@class=\"teaser__copy-container\"]')\n",
    "\n",
    "titles = []\n",
    "subtitles = []\n",
    "links = []\n",
    "for container in containers:\n",
    "    title = container.find_element(by='xpath', value='./a/h2').text\n",
    "    subtitle = container.find_element(by='xpath', value='./a/p').text\n",
    "    link = container.find_element(by='xpath', value='./a').get_attribute('href')\n",
    "    titles.append(title)\n",
    "    subtitles.append(subtitle)\n",
    "    links.append(link)\n",
    "\n",
    "# Exporting data to a CSV file\n",
    "my_dict = {'title': titles, 'subtitle': subtitles, 'link': links}\n",
    "df_headlines = pd.DataFrame(my_dict)\n",
    "df_headlines.to_csv('headline.csv')\n",
    "\n",
    "driver.quit()"
   ]
  },
  {
   "cell_type": "markdown",
   "id": "93e3cbd7",
   "metadata": {},
   "source": [
    "# News extraction (headless process)"
   ]
  },
  {
   "cell_type": "code",
   "execution_count": 8,
   "id": "26e2d121",
   "metadata": {},
   "outputs": [],
   "source": [
    "from selenium import webdriver\n",
    "from selenium.webdriver.chrome.options import Options\n",
    "from selenium.webdriver.chrome.service import Service\n",
    "import pandas as pd\n",
    "\n",
    "web = 'https://www.thesun.co.uk/sport/football/'\n",
    "path = '/Users/zahira/Desktop/WEB SCRPAING USING PYTHON/Scraping_automation_with_python/chromedriver'  # introduce path here\n",
    "\n",
    "# add headless mode\n",
    "options = Options()\n",
    "options.headless = True\n",
    "driver_service = Service(executable_path=path)\n",
    "driver = webdriver.Chrome(service=driver_service, options=options)\n",
    "driver.get(web)\n",
    "\n",
    "containers = driver.find_elements(by='xpath', value='//div[@class=\"teaser__copy-container\"]')\n",
    "\n",
    "titles = []\n",
    "subtitles = []\n",
    "links = []\n",
    "for container in containers:\n",
    "    title = container.find_element(by='xpath', value='./a/h2').text\n",
    "    subtitle = container.find_element(by='xpath', value='./a/p').text\n",
    "    link = container.find_element(by='xpath', value='./a').get_attribute('href')\n",
    "    titles.append(title)\n",
    "    subtitles.append(subtitle)\n",
    "    links.append(link)\n",
    "\n",
    "my_dict = {'title': titles, 'subtitle': subtitles, 'link': links}\n",
    "df_headlines = pd.DataFrame(my_dict)\n",
    "df_headlines.to_csv('headline-headless.csv')\n",
    "\n",
    "driver.quit()"
   ]
  },
  {
   "cell_type": "markdown",
   "id": "d2877cd5",
   "metadata": {},
   "source": [
    "# News extraction and automation"
   ]
  },
  {
   "cell_type": "code",
   "execution_count": 1,
   "id": "cecf73de",
   "metadata": {},
   "outputs": [],
   "source": [
    "from selenium import webdriver\n",
    "from selenium.webdriver.chrome.options import Options\n",
    "from selenium.webdriver.chrome.service import Service\n",
    "import pandas as pd\n",
    "from datetime import datetime\n",
    "import os\n",
    "import sys\n",
    "\n",
    "# Preparing script before we convert it to executable\n",
    "application_path = os.path.dirname(sys.executable)\n",
    "\n",
    "# get date in format MMDDYYYY\n",
    "now = datetime.now()\n",
    "month_day_year = now.strftime(\"%m%d%Y\")\n",
    "\n",
    "web = 'https://www.thesun.co.uk/sport/football/'\n",
    "path = '/Users/zahira/Desktop/WEB SCRPAING USING PYTHON/Scraping_automation_with_python/chromedriver'  # introduce path here\n",
    "\n",
    "# Headless mode\n",
    "options = Options()\n",
    "options.headless = True\n",
    "driver_service = Service(executable_path=path)\n",
    "driver = webdriver.Chrome(service=driver_service, options=options)\n",
    "driver.get(web)\n",
    "\n",
    "containers = driver.find_elements(by='xpath', value='//div[@class=\"teaser__copy-container\"]')\n",
    "\n",
    "titles = []\n",
    "subtitles = []\n",
    "links = []\n",
    "for container in containers:\n",
    "    title = container.find_element(by='xpath', value='./a/h2').text\n",
    "    subtitle = container.find_element(by='xpath', value='./a/p').text\n",
    "    link = container.find_element(by='xpath', value='./a').get_attribute('href')\n",
    "    titles.append(title)\n",
    "    subtitles.append(subtitle)\n",
    "    links.append(link)\n",
    "\n",
    "# Exporting data to the same folder where the executable will be located\n",
    "my_dict = {'title': titles, 'subtitle': subtitles, 'link': links}\n",
    "df_headlines = pd.DataFrame(my_dict)\n",
    "file_name = f'football_headlines_{month_day_year}.csv'\n",
    "final_path = os.path.join(application_path, file_name)\n",
    "df_headlines.to_csv(final_path)\n",
    "\n",
    "driver.quit()\n"
   ]
  },
  {
   "cell_type": "code",
   "execution_count": 1,
   "id": "2425958d",
   "metadata": {
    "scrolled": true
   },
   "outputs": [
    {
     "name": "stdout",
     "output_type": "stream",
     "text": [
      "Requirement already satisfied: auto-py-to-exe in c:\\users\\zahira\\anaconda3\\lib\\site-packages (2.22.0)\n",
      "Requirement already satisfied: pyinstaller>=4.6 in c:\\users\\zahira\\anaconda3\\lib\\site-packages (from auto-py-to-exe) (5.3)\n",
      "Requirement already satisfied: Eel==0.14.0 in c:\\users\\zahira\\anaconda3\\lib\\site-packages (from auto-py-to-exe) (0.14.0)\n",
      "Requirement already satisfied: whichcraft in c:\\users\\zahira\\anaconda3\\lib\\site-packages (from Eel==0.14.0->auto-py-to-exe) (0.6.1)\n",
      "Requirement already satisfied: bottle in c:\\users\\zahira\\anaconda3\\lib\\site-packages (from Eel==0.14.0->auto-py-to-exe) (0.12.23)\n",
      "Requirement already satisfied: bottle-websocket in c:\\users\\zahira\\anaconda3\\lib\\site-packages (from Eel==0.14.0->auto-py-to-exe) (0.2.9)\n",
      "Requirement already satisfied: future in c:\\users\\zahira\\anaconda3\\lib\\site-packages (from Eel==0.14.0->auto-py-to-exe) (0.18.2)\n",
      "Requirement already satisfied: pyparsing in c:\\users\\zahira\\anaconda3\\lib\\site-packages (from Eel==0.14.0->auto-py-to-exe) (2.4.7)\n",
      "Requirement already satisfied: altgraph in c:\\users\\zahira\\anaconda3\\lib\\site-packages (from pyinstaller>=4.6->auto-py-to-exe) (0.17.2)\n",
      "Requirement already satisfied: pefile>=2022.5.30 in c:\\users\\zahira\\anaconda3\\lib\\site-packages (from pyinstaller>=4.6->auto-py-to-exe) (2022.5.30)\n",
      "Requirement already satisfied: pywin32-ctypes>=0.2.0 in c:\\users\\zahira\\anaconda3\\lib\\site-packages (from pyinstaller>=4.6->auto-py-to-exe) (0.2.0)\n",
      "Requirement already satisfied: setuptools in c:\\users\\zahira\\anaconda3\\lib\\site-packages (from pyinstaller>=4.6->auto-py-to-exe) (52.0.0.post20210125)\n",
      "Requirement already satisfied: pyinstaller-hooks-contrib>=2021.4 in c:\\users\\zahira\\anaconda3\\lib\\site-packages (from pyinstaller>=4.6->auto-py-to-exe) (2022.8)\n",
      "Requirement already satisfied: gevent-websocket in c:\\users\\zahira\\anaconda3\\lib\\site-packages (from bottle-websocket->Eel==0.14.0->auto-py-to-exe) (0.10.1)\n",
      "Requirement already satisfied: gevent in c:\\users\\zahira\\anaconda3\\lib\\site-packages (from gevent-websocket->bottle-websocket->Eel==0.14.0->auto-py-to-exe) (21.1.2)\n",
      "Requirement already satisfied: greenlet<2.0,>=0.4.17 in c:\\users\\zahira\\anaconda3\\lib\\site-packages (from gevent->gevent-websocket->bottle-websocket->Eel==0.14.0->auto-py-to-exe) (1.0.0)\n",
      "Requirement already satisfied: cffi>=1.12.2 in c:\\users\\zahira\\anaconda3\\lib\\site-packages (from gevent->gevent-websocket->bottle-websocket->Eel==0.14.0->auto-py-to-exe) (1.14.5)\n",
      "Requirement already satisfied: zope.interface in c:\\users\\zahira\\anaconda3\\lib\\site-packages (from gevent->gevent-websocket->bottle-websocket->Eel==0.14.0->auto-py-to-exe) (5.3.0)\n",
      "Requirement already satisfied: zope.event in c:\\users\\zahira\\anaconda3\\lib\\site-packages (from gevent->gevent-websocket->bottle-websocket->Eel==0.14.0->auto-py-to-exe) (4.5.0)\n",
      "Requirement already satisfied: pycparser in c:\\users\\zahira\\anaconda3\\lib\\site-packages (from cffi>=1.12.2->gevent->gevent-websocket->bottle-websocket->Eel==0.14.0->auto-py-to-exe) (2.20)\n"
     ]
    }
   ],
   "source": [
    "#import an library to convert python file (.py) in executable file (.exe)\n",
    "\n",
    "!pip install auto-py-to-exe"
   ]
  },
  {
   "cell_type": "code",
   "execution_count": 5,
   "id": "13f907f9",
   "metadata": {},
   "outputs": [],
   "source": [
    "#create an executable file\n",
    "!auto-py-to-exe\n"
   ]
  }
 ],
 "metadata": {
  "kernelspec": {
   "display_name": "Python 3",
   "language": "python",
   "name": "python3"
  },
  "language_info": {
   "codemirror_mode": {
    "name": "ipython",
    "version": 3
   },
   "file_extension": ".py",
   "mimetype": "text/x-python",
   "name": "python",
   "nbconvert_exporter": "python",
   "pygments_lexer": "ipython3",
   "version": "3.8.8"
  }
 },
 "nbformat": 4,
 "nbformat_minor": 5
}
