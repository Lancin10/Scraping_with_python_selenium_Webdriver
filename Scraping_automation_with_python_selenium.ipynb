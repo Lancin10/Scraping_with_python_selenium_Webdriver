{
 "cells": [
  {
   "cell_type": "markdown",
   "id": "b4f36401",
   "metadata": {},
   "source": [
    "# News extraction"
   ]
  },
  {
   "cell_type": "code",
   "execution_count": 19,
   "id": "bb78cc9a",
   "metadata": {},
   "outputs": [],
   "source": [
    "from selenium import webdriver\n",
    "from selenium.webdriver.chrome.service import Service\n",
    "import pandas as pd"
   ]
  },
  {
   "cell_type": "code",
   "execution_count": 20,
   "id": "1d497f14",
   "metadata": {},
   "outputs": [
    {
     "ename": "WebDriverException",
     "evalue": "Message: chrome not reachable\n  (Session info: chrome=104.0.5112.81)\nStacktrace:\nBacktrace:\n\tOrdinal0 [0x01215FD3+2187219]\n\tOrdinal0 [0x011AE6D1+1763025]\n\tOrdinal0 [0x010C3D40+802112]\n\tOrdinal0 [0x010B8A12+756242]\n\tOrdinal0 [0x010B97E5+759781]\n\tOrdinal0 [0x010BAB02+764674]\n\tOrdinal0 [0x010B4379+738169]\n\tOrdinal0 [0x010C51D0+807376]\n\tOrdinal0 [0x0111C7A2+1165218]\n\tOrdinal0 [0x0110C9A6+1100198]\n\tOrdinal0 [0x010E6F80+946048]\n\tOrdinal0 [0x010E7E76+949878]\n\tGetHandleVerifier [0x014B90C2+2721218]\n\tGetHandleVerifier [0x014AAAF0+2662384]\n\tGetHandleVerifier [0x012A137A+526458]\n\tGetHandleVerifier [0x012A0416+522518]\n\tOrdinal0 [0x011B4EAB+1789611]\n\tOrdinal0 [0x011B97A8+1808296]\n\tOrdinal0 [0x011B9895+1808533]\n\tOrdinal0 [0x011C26C1+1844929]\n\tBaseThreadInitThunk [0x766AFA29+25]\n\tRtlGetAppContainerNamedObjectPath [0x77217A9E+286]\n\tRtlGetAppContainerNamedObjectPath [0x77217A6E+238]\n",
     "output_type": "error",
     "traceback": [
      "\u001b[1;31m---------------------------------------------------------------------------\u001b[0m",
      "\u001b[1;31mWebDriverException\u001b[0m                        Traceback (most recent call last)",
      "\u001b[1;32m<ipython-input-20-a92081aff0b7>\u001b[0m in \u001b[0;36m<module>\u001b[1;34m\u001b[0m\n\u001b[0;32m     12\u001b[0m \u001b[1;33m\u001b[0m\u001b[0m\n\u001b[0;32m     13\u001b[0m \u001b[1;31m# Finding Elements\u001b[0m\u001b[1;33m\u001b[0m\u001b[1;33m\u001b[0m\u001b[1;33m\u001b[0m\u001b[0m\n\u001b[1;32m---> 14\u001b[1;33m \u001b[0mcontainers\u001b[0m \u001b[1;33m=\u001b[0m \u001b[0mdriver\u001b[0m\u001b[1;33m.\u001b[0m\u001b[0mfind_elements\u001b[0m\u001b[1;33m(\u001b[0m\u001b[0mby\u001b[0m\u001b[1;33m=\u001b[0m\u001b[1;34m'xpath'\u001b[0m\u001b[1;33m,\u001b[0m \u001b[0mvalue\u001b[0m\u001b[1;33m=\u001b[0m\u001b[1;34m'//div[@class=\"teaser__copy-container\"]'\u001b[0m\u001b[1;33m)\u001b[0m\u001b[1;33m\u001b[0m\u001b[1;33m\u001b[0m\u001b[0m\n\u001b[0m\u001b[0;32m     15\u001b[0m \u001b[1;33m\u001b[0m\u001b[0m\n\u001b[0;32m     16\u001b[0m \u001b[0mtitles\u001b[0m \u001b[1;33m=\u001b[0m \u001b[1;33m[\u001b[0m\u001b[1;33m]\u001b[0m\u001b[1;33m\u001b[0m\u001b[1;33m\u001b[0m\u001b[0m\n",
      "\u001b[1;32m~\\anaconda3\\lib\\site-packages\\selenium\\webdriver\\remote\\webdriver.py\u001b[0m in \u001b[0;36mfind_elements\u001b[1;34m(self, by, value)\u001b[0m\n\u001b[0;32m    888\u001b[0m         \u001b[1;31m# Return empty list if driver returns null\u001b[0m\u001b[1;33m\u001b[0m\u001b[1;33m\u001b[0m\u001b[1;33m\u001b[0m\u001b[0m\n\u001b[0;32m    889\u001b[0m         \u001b[1;31m# See https://github.com/SeleniumHQ/selenium/issues/4555\u001b[0m\u001b[1;33m\u001b[0m\u001b[1;33m\u001b[0m\u001b[1;33m\u001b[0m\u001b[0m\n\u001b[1;32m--> 890\u001b[1;33m         return self.execute(Command.FIND_ELEMENTS, {\n\u001b[0m\u001b[0;32m    891\u001b[0m             \u001b[1;34m'using'\u001b[0m\u001b[1;33m:\u001b[0m \u001b[0mby\u001b[0m\u001b[1;33m,\u001b[0m\u001b[1;33m\u001b[0m\u001b[1;33m\u001b[0m\u001b[0m\n\u001b[0;32m    892\u001b[0m             'value': value})['value'] or []\n",
      "\u001b[1;32m~\\anaconda3\\lib\\site-packages\\selenium\\webdriver\\remote\\webdriver.py\u001b[0m in \u001b[0;36mexecute\u001b[1;34m(self, driver_command, params)\u001b[0m\n\u001b[0;32m    433\u001b[0m         \u001b[0mresponse\u001b[0m \u001b[1;33m=\u001b[0m \u001b[0mself\u001b[0m\u001b[1;33m.\u001b[0m\u001b[0mcommand_executor\u001b[0m\u001b[1;33m.\u001b[0m\u001b[0mexecute\u001b[0m\u001b[1;33m(\u001b[0m\u001b[0mdriver_command\u001b[0m\u001b[1;33m,\u001b[0m \u001b[0mparams\u001b[0m\u001b[1;33m)\u001b[0m\u001b[1;33m\u001b[0m\u001b[1;33m\u001b[0m\u001b[0m\n\u001b[0;32m    434\u001b[0m         \u001b[1;32mif\u001b[0m \u001b[0mresponse\u001b[0m\u001b[1;33m:\u001b[0m\u001b[1;33m\u001b[0m\u001b[1;33m\u001b[0m\u001b[0m\n\u001b[1;32m--> 435\u001b[1;33m             \u001b[0mself\u001b[0m\u001b[1;33m.\u001b[0m\u001b[0merror_handler\u001b[0m\u001b[1;33m.\u001b[0m\u001b[0mcheck_response\u001b[0m\u001b[1;33m(\u001b[0m\u001b[0mresponse\u001b[0m\u001b[1;33m)\u001b[0m\u001b[1;33m\u001b[0m\u001b[1;33m\u001b[0m\u001b[0m\n\u001b[0m\u001b[0;32m    436\u001b[0m             response['value'] = self._unwrap_value(\n\u001b[0;32m    437\u001b[0m                 response.get('value', None))\n",
      "\u001b[1;32m~\\anaconda3\\lib\\site-packages\\selenium\\webdriver\\remote\\errorhandler.py\u001b[0m in \u001b[0;36mcheck_response\u001b[1;34m(self, response)\u001b[0m\n\u001b[0;32m    245\u001b[0m                 \u001b[0malert_text\u001b[0m \u001b[1;33m=\u001b[0m \u001b[0mvalue\u001b[0m\u001b[1;33m[\u001b[0m\u001b[1;34m'alert'\u001b[0m\u001b[1;33m]\u001b[0m\u001b[1;33m.\u001b[0m\u001b[0mget\u001b[0m\u001b[1;33m(\u001b[0m\u001b[1;34m'text'\u001b[0m\u001b[1;33m)\u001b[0m\u001b[1;33m\u001b[0m\u001b[1;33m\u001b[0m\u001b[0m\n\u001b[0;32m    246\u001b[0m             \u001b[1;32mraise\u001b[0m \u001b[0mexception_class\u001b[0m\u001b[1;33m(\u001b[0m\u001b[0mmessage\u001b[0m\u001b[1;33m,\u001b[0m \u001b[0mscreen\u001b[0m\u001b[1;33m,\u001b[0m \u001b[0mstacktrace\u001b[0m\u001b[1;33m,\u001b[0m \u001b[0malert_text\u001b[0m\u001b[1;33m)\u001b[0m  \u001b[1;31m# type: ignore[call-arg]  # mypy is not smart enough here\u001b[0m\u001b[1;33m\u001b[0m\u001b[1;33m\u001b[0m\u001b[0m\n\u001b[1;32m--> 247\u001b[1;33m         \u001b[1;32mraise\u001b[0m \u001b[0mexception_class\u001b[0m\u001b[1;33m(\u001b[0m\u001b[0mmessage\u001b[0m\u001b[1;33m,\u001b[0m \u001b[0mscreen\u001b[0m\u001b[1;33m,\u001b[0m \u001b[0mstacktrace\u001b[0m\u001b[1;33m)\u001b[0m\u001b[1;33m\u001b[0m\u001b[1;33m\u001b[0m\u001b[0m\n\u001b[0m\u001b[0;32m    248\u001b[0m \u001b[1;33m\u001b[0m\u001b[0m\n\u001b[0;32m    249\u001b[0m     \u001b[1;32mdef\u001b[0m \u001b[0m_value_or_default\u001b[0m\u001b[1;33m(\u001b[0m\u001b[0mself\u001b[0m\u001b[1;33m,\u001b[0m \u001b[0mobj\u001b[0m\u001b[1;33m:\u001b[0m \u001b[0mMapping\u001b[0m\u001b[1;33m[\u001b[0m\u001b[0m_KT\u001b[0m\u001b[1;33m,\u001b[0m \u001b[0m_VT\u001b[0m\u001b[1;33m]\u001b[0m\u001b[1;33m,\u001b[0m \u001b[0mkey\u001b[0m\u001b[1;33m:\u001b[0m \u001b[0m_KT\u001b[0m\u001b[1;33m,\u001b[0m \u001b[0mdefault\u001b[0m\u001b[1;33m:\u001b[0m \u001b[0m_VT\u001b[0m\u001b[1;33m)\u001b[0m \u001b[1;33m->\u001b[0m \u001b[0m_VT\u001b[0m\u001b[1;33m:\u001b[0m\u001b[1;33m\u001b[0m\u001b[1;33m\u001b[0m\u001b[0m\n",
      "\u001b[1;31mWebDriverException\u001b[0m: Message: chrome not reachable\n  (Session info: chrome=104.0.5112.81)\nStacktrace:\nBacktrace:\n\tOrdinal0 [0x01215FD3+2187219]\n\tOrdinal0 [0x011AE6D1+1763025]\n\tOrdinal0 [0x010C3D40+802112]\n\tOrdinal0 [0x010B8A12+756242]\n\tOrdinal0 [0x010B97E5+759781]\n\tOrdinal0 [0x010BAB02+764674]\n\tOrdinal0 [0x010B4379+738169]\n\tOrdinal0 [0x010C51D0+807376]\n\tOrdinal0 [0x0111C7A2+1165218]\n\tOrdinal0 [0x0110C9A6+1100198]\n\tOrdinal0 [0x010E6F80+946048]\n\tOrdinal0 [0x010E7E76+949878]\n\tGetHandleVerifier [0x014B90C2+2721218]\n\tGetHandleVerifier [0x014AAAF0+2662384]\n\tGetHandleVerifier [0x012A137A+526458]\n\tGetHandleVerifier [0x012A0416+522518]\n\tOrdinal0 [0x011B4EAB+1789611]\n\tOrdinal0 [0x011B97A8+1808296]\n\tOrdinal0 [0x011B9895+1808533]\n\tOrdinal0 [0x011C26C1+1844929]\n\tBaseThreadInitThunk [0x766AFA29+25]\n\tRtlGetAppContainerNamedObjectPath [0x77217A9E+286]\n\tRtlGetAppContainerNamedObjectPath [0x77217A6E+238]\n"
     ]
    }
   ],
   "source": [
    "web = 'https://www.thesun.co.uk/sport/football/'\n",
    "\n",
    "# Before, Put Chromedriver.exe in the same directory as python script python (he Scraping_automation_with_python.ipynb)\n",
    "\n",
    "path = '/Users/zahira/Desktop/WEB SCRPAING USING PYTHON/Scraping_automation_with_python/chromedriver'  # introduce path here\n",
    "\n",
    "\n",
    "# Creating the driver\n",
    "driver_service = Service(executable_path=path)\n",
    "driver = webdriver.Chrome(service=driver_service)\n",
    "driver.get(web)\n",
    "\n",
    "# Finding Elements\n",
    "containers = driver.find_elements(by='xpath', value='//div[@class=\"teaser__copy-container\"]')\n",
    "\n",
    "titles = []\n",
    "subtitles = []\n",
    "links = []\n",
    "for container in containers:\n",
    "    title = container.find_element(by='xpath', value='./a/h2').text\n",
    "    subtitle = container.find_element(by='xpath', value='./a/p').text\n",
    "    link = container.find_element(by='xpath', value='./a').get_attribute('href')\n",
    "    titles.append(title)\n",
    "    subtitles.append(subtitle)\n",
    "    links.append(link)\n",
    "\n",
    "# Exporting data to a CSV file\n",
    "my_dict = {'title': titles, 'subtitle': subtitles, 'link': links}\n",
    "df_headlines = pd.DataFrame(my_dict)\n",
    "df_headlines.to_csv('headline.csv')\n",
    "\n",
    "driver.quit()"
   ]
  },
  {
   "cell_type": "markdown",
   "id": "93e3cbd7",
   "metadata": {},
   "source": [
    "# News extraction (headless process)"
   ]
  },
  {
   "cell_type": "code",
   "execution_count": 8,
   "id": "26e2d121",
   "metadata": {},
   "outputs": [],
   "source": [
    "from selenium import webdriver\n",
    "from selenium.webdriver.chrome.options import Options\n",
    "from selenium.webdriver.chrome.service import Service\n",
    "import pandas as pd\n",
    "\n",
    "web = 'https://www.thesun.co.uk/sport/football/'\n",
    "path = '/Users/zahira/Desktop/WEB SCRPAING USING PYTHON/Scraping_automation_with_python/chromedriver'  # introduce path here\n",
    "\n",
    "# add headless mode\n",
    "options = Options()\n",
    "options.headless = True\n",
    "driver_service = Service(executable_path=path)\n",
    "driver = webdriver.Chrome(service=driver_service, options=options)\n",
    "driver.get(web)\n",
    "\n",
    "containers = driver.find_elements(by='xpath', value='//div[@class=\"teaser__copy-container\"]')\n",
    "\n",
    "titles = []\n",
    "subtitles = []\n",
    "links = []\n",
    "for container in containers:\n",
    "    title = container.find_element(by='xpath', value='./a/h2').text\n",
    "    subtitle = container.find_element(by='xpath', value='./a/p').text\n",
    "    link = container.find_element(by='xpath', value='./a').get_attribute('href')\n",
    "    titles.append(title)\n",
    "    subtitles.append(subtitle)\n",
    "    links.append(link)\n",
    "\n",
    "my_dict = {'title': titles, 'subtitle': subtitles, 'link': links}\n",
    "df_headlines = pd.DataFrame(my_dict)\n",
    "df_headlines.to_csv('headline-headless.csv')\n",
    "\n",
    "driver.quit()"
   ]
  },
  {
   "cell_type": "markdown",
   "id": "d2877cd5",
   "metadata": {},
   "source": [
    "# News extraction and automation"
   ]
  },
  {
   "cell_type": "code",
   "execution_count": 1,
   "id": "cecf73de",
   "metadata": {},
   "outputs": [],
   "source": [
    "from selenium import webdriver\n",
    "from selenium.webdriver.chrome.options import Options\n",
    "from selenium.webdriver.chrome.service import Service\n",
    "import pandas as pd\n",
    "from datetime import datetime\n",
    "import os\n",
    "import sys\n",
    "\n",
    "# Preparing script before we convert it to executable\n",
    "application_path = os.path.dirname(sys.executable)\n",
    "\n",
    "# get date in format MMDDYYYY\n",
    "now = datetime.now()\n",
    "month_day_year = now.strftime(\"%m%d%Y\")\n",
    "\n",
    "web = 'https://www.thesun.co.uk/sport/football/'\n",
    "path = '/Users/zahira/Desktop/WEB SCRPAING USING PYTHON/Scraping_automation_with_python/chromedriver'  # introduce path here\n",
    "\n",
    "# Headless mode\n",
    "options = Options()\n",
    "options.headless = True\n",
    "driver_service = Service(executable_path=path)\n",
    "driver = webdriver.Chrome(service=driver_service, options=options)\n",
    "driver.get(web)\n",
    "\n",
    "containers = driver.find_elements(by='xpath', value='//div[@class=\"teaser__copy-container\"]')\n",
    "\n",
    "titles = []\n",
    "subtitles = []\n",
    "links = []\n",
    "for container in containers:\n",
    "    title = container.find_element(by='xpath', value='./a/h2').text\n",
    "    subtitle = container.find_element(by='xpath', value='./a/p').text\n",
    "    link = container.find_element(by='xpath', value='./a').get_attribute('href')\n",
    "    titles.append(title)\n",
    "    subtitles.append(subtitle)\n",
    "    links.append(link)\n",
    "\n",
    "# Exporting data to the same folder where the executable will be located\n",
    "my_dict = {'title': titles, 'subtitle': subtitles, 'link': links}\n",
    "df_headlines = pd.DataFrame(my_dict)\n",
    "file_name = f'football_headlines_{month_day_year}.csv'\n",
    "final_path = os.path.join(application_path, file_name)\n",
    "df_headlines.to_csv(final_path)\n",
    "\n",
    "driver.quit()\n"
   ]
  },
  {
   "cell_type": "code",
   "execution_count": 1,
   "id": "2425958d",
   "metadata": {
    "scrolled": true
   },
   "outputs": [
    {
     "name": "stdout",
     "output_type": "stream",
     "text": [
      "Requirement already satisfied: auto-py-to-exe in c:\\users\\zahira\\anaconda3\\lib\\site-packages (2.22.0)\n",
      "Requirement already satisfied: pyinstaller>=4.6 in c:\\users\\zahira\\anaconda3\\lib\\site-packages (from auto-py-to-exe) (5.3)\n",
      "Requirement already satisfied: Eel==0.14.0 in c:\\users\\zahira\\anaconda3\\lib\\site-packages (from auto-py-to-exe) (0.14.0)\n",
      "Requirement already satisfied: whichcraft in c:\\users\\zahira\\anaconda3\\lib\\site-packages (from Eel==0.14.0->auto-py-to-exe) (0.6.1)\n",
      "Requirement already satisfied: bottle in c:\\users\\zahira\\anaconda3\\lib\\site-packages (from Eel==0.14.0->auto-py-to-exe) (0.12.23)\n",
      "Requirement already satisfied: bottle-websocket in c:\\users\\zahira\\anaconda3\\lib\\site-packages (from Eel==0.14.0->auto-py-to-exe) (0.2.9)\n",
      "Requirement already satisfied: future in c:\\users\\zahira\\anaconda3\\lib\\site-packages (from Eel==0.14.0->auto-py-to-exe) (0.18.2)\n",
      "Requirement already satisfied: pyparsing in c:\\users\\zahira\\anaconda3\\lib\\site-packages (from Eel==0.14.0->auto-py-to-exe) (2.4.7)\n",
      "Requirement already satisfied: altgraph in c:\\users\\zahira\\anaconda3\\lib\\site-packages (from pyinstaller>=4.6->auto-py-to-exe) (0.17.2)\n",
      "Requirement already satisfied: pefile>=2022.5.30 in c:\\users\\zahira\\anaconda3\\lib\\site-packages (from pyinstaller>=4.6->auto-py-to-exe) (2022.5.30)\n",
      "Requirement already satisfied: pywin32-ctypes>=0.2.0 in c:\\users\\zahira\\anaconda3\\lib\\site-packages (from pyinstaller>=4.6->auto-py-to-exe) (0.2.0)\n",
      "Requirement already satisfied: setuptools in c:\\users\\zahira\\anaconda3\\lib\\site-packages (from pyinstaller>=4.6->auto-py-to-exe) (52.0.0.post20210125)\n",
      "Requirement already satisfied: pyinstaller-hooks-contrib>=2021.4 in c:\\users\\zahira\\anaconda3\\lib\\site-packages (from pyinstaller>=4.6->auto-py-to-exe) (2022.8)\n",
      "Requirement already satisfied: gevent-websocket in c:\\users\\zahira\\anaconda3\\lib\\site-packages (from bottle-websocket->Eel==0.14.0->auto-py-to-exe) (0.10.1)\n",
      "Requirement already satisfied: gevent in c:\\users\\zahira\\anaconda3\\lib\\site-packages (from gevent-websocket->bottle-websocket->Eel==0.14.0->auto-py-to-exe) (21.1.2)\n",
      "Requirement already satisfied: greenlet<2.0,>=0.4.17 in c:\\users\\zahira\\anaconda3\\lib\\site-packages (from gevent->gevent-websocket->bottle-websocket->Eel==0.14.0->auto-py-to-exe) (1.0.0)\n",
      "Requirement already satisfied: cffi>=1.12.2 in c:\\users\\zahira\\anaconda3\\lib\\site-packages (from gevent->gevent-websocket->bottle-websocket->Eel==0.14.0->auto-py-to-exe) (1.14.5)\n",
      "Requirement already satisfied: zope.interface in c:\\users\\zahira\\anaconda3\\lib\\site-packages (from gevent->gevent-websocket->bottle-websocket->Eel==0.14.0->auto-py-to-exe) (5.3.0)\n",
      "Requirement already satisfied: zope.event in c:\\users\\zahira\\anaconda3\\lib\\site-packages (from gevent->gevent-websocket->bottle-websocket->Eel==0.14.0->auto-py-to-exe) (4.5.0)\n",
      "Requirement already satisfied: pycparser in c:\\users\\zahira\\anaconda3\\lib\\site-packages (from cffi>=1.12.2->gevent->gevent-websocket->bottle-websocket->Eel==0.14.0->auto-py-to-exe) (2.20)\n"
     ]
    }
   ],
   "source": [
    "#import an library to convert python file (.py) in executable file (.exe)\n",
    "\n",
    "!pip install auto-py-to-exe"
   ]
  },
  {
   "cell_type": "code",
   "execution_count": 5,
   "id": "d829dec1",
   "metadata": {},
   "outputs": [],
   "source": [
    "#create an executable file\n",
    "!auto-py-to-exe\n"
   ]
  }
 ],
 "metadata": {
  "kernelspec": {
   "display_name": "Python 3",
   "language": "python",
   "name": "python3"
  },
  "language_info": {
   "codemirror_mode": {
    "name": "ipython",
    "version": 3
   },
   "file_extension": ".py",
   "mimetype": "text/x-python",
   "name": "python",
   "nbconvert_exporter": "python",
   "pygments_lexer": "ipython3",
   "version": "3.8.8"
  }
 },
 "nbformat": 4,
 "nbformat_minor": 5
}
